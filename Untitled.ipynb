{
 "cells": [
  {
   "cell_type": "code",
   "execution_count": 3,
   "metadata": {},
   "outputs": [
    {
     "ename": "NameError",
     "evalue": "name 'start' is not defined",
     "output_type": "error",
     "traceback": [
      "\u001b[1;31m---------------------------------------------------------------------------\u001b[0m",
      "\u001b[1;31mNameError\u001b[0m                                 Traceback (most recent call last)",
      "\u001b[1;32m<ipython-input-3-2875fec5199e>\u001b[0m in \u001b[0;36m<module>\u001b[1;34m()\u001b[0m\n\u001b[0;32m      5\u001b[0m \u001b[1;33m\u001b[0m\u001b[0m\n\u001b[0;32m      6\u001b[0m \u001b[0mknn\u001b[0m \u001b[1;33m=\u001b[0m \u001b[0mcv2\u001b[0m\u001b[1;33m.\u001b[0m\u001b[0mml\u001b[0m\u001b[1;33m.\u001b[0m\u001b[0mKNearest_create\u001b[0m\u001b[1;33m(\u001b[0m\u001b[1;33m)\u001b[0m\u001b[1;33m\u001b[0m\u001b[0m\n\u001b[1;32m----> 7\u001b[1;33m \u001b[0mstart\u001b[0m\u001b[1;33m(\u001b[0m\u001b[1;33m)\u001b[0m\u001b[1;33m\u001b[0m\u001b[0m\n\u001b[0m\u001b[0;32m      8\u001b[0m \u001b[1;33m\u001b[0m\u001b[0m\n\u001b[0;32m      9\u001b[0m \u001b[1;32mdef\u001b[0m \u001b[0mstart\u001b[0m\u001b[1;33m(\u001b[0m\u001b[0msample_size\u001b[0m\u001b[1;33m=\u001b[0m\u001b[1;36m25\u001b[0m\u001b[1;33m)\u001b[0m \u001b[1;33m:\u001b[0m\u001b[1;33m\u001b[0m\u001b[0m\n",
      "\u001b[1;31mNameError\u001b[0m: name 'start' is not defined"
     ]
    }
   ],
   "source": [
    "import numpy as np\n",
    "import cv2\n",
    "import matplotlib.pyplot as plt\n",
    "from sklearn import metrics\n",
    "\n",
    "knn = cv2.ml.KNearest_create()\n",
    "start()\n",
    "\n",
    "def start(sample_size=25) :\n",
    "    train_data = generate_data(sample_size)\n",
    "    print(\"train_data :\",train_data)\n",
    "    labels = classify_label(train_data)\n",
    "    power, nomal, short = binding_label(train_data, labels)\n",
    "    print(\"Return true if training is successful :\", knn.train(train_data, cv2.ml.ROW_SAMPLE, labels))\n",
    "    plot_data(power, nomal, short)\n",
    "    return power, nomal, short\n",
    "\n",
    "    \n",
    "#'num_samples' is number of data points to create\n",
    "#'num_features' means the number of features at each data point (in this case, x-y conrdination values)\n",
    "def generate_data(num_samples, num_features = 2) :\n",
    "    \"\"\"randomly generates a number of data points\"\"\"    \n",
    "    data_size = (num_samples, num_features)\n",
    "    data = np.random.randint(0,40, size = data_size)\n",
    "    return data.astype(np.float32)\n",
    "\n",
    "#I determined the drowsiness-driving-risk-level based on the time which can prevent driving accident.\n",
    "def classify_label(train_data):\n",
    "    labels = []\n",
    "    for data in train_data :\n",
    "        if data[1] < data[0]-15 :\n",
    "            labels.append(2)\n",
    "        elif data[1] >= (data[0]/2 + 15) :\n",
    "            labels.append(0)\n",
    "        else :\n",
    "            labels.append(1)\n",
    "    return np.array(labels)\n",
    "\n",
    "def binding_label(train_data, labels) :\n",
    "    power = train_data[labels==0]\n",
    "    nomal = train_data[labels==1]\n",
    "    short = train_data[labels==2]\n",
    "    return power, nomal, short\n",
    "\n",
    "def plot_data(po, no, sh) :\n",
    "    plt.figure(figsize = (10,6))\n",
    "    plt.scatter(po[:,0], po[:,1], c = 'r', marker = 's', s = 50)\n",
    "    plt.scatter(no[:,0], no[:,1], c = 'g', marker = '^', s = 50)\n",
    "    plt.scatter(sh[:,0], sh[:,1], c = 'b', marker = 'o', s = 50)\n",
    "    plt.xlabel('x is second for alarm term')\n",
    "    plt.ylabel('y is 10s for time to close eyes')"
   ]
  },
  {
   "cell_type": "code",
   "execution_count": null,
   "metadata": {},
   "outputs": [],
   "source": []
  }
 ],
 "metadata": {
  "kernelspec": {
   "display_name": "Python 3",
   "language": "python",
   "name": "python3"
  },
  "language_info": {
   "codemirror_mode": {
    "name": "ipython",
    "version": 3
   },
   "file_extension": ".py",
   "mimetype": "text/x-python",
   "name": "python",
   "nbconvert_exporter": "python",
   "pygments_lexer": "ipython3",
   "version": "3.6.5"
  }
 },
 "nbformat": 4,
 "nbformat_minor": 2
}
